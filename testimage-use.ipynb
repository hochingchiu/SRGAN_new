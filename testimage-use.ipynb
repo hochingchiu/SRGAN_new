{
 "cells": [
  {
   "cell_type": "code",
   "execution_count": 3,
   "metadata": {},
   "outputs": [],
   "source": [
    "import argparse\n",
    "import time\n",
    "\n",
    "import torch\n",
    "from PIL import Image\n",
    "from torch.autograd import Variable\n",
    "from torchvision.transforms import ToTensor, ToPILImage\n",
    "\n",
    "from model import Generator"
   ]
  },
  {
   "cell_type": "code",
   "execution_count": 5,
   "metadata": {},
   "outputs": [
    {
     "name": "stderr",
     "output_type": "stream",
     "text": [
      "C:\\Users\\hochingchiu\\AppData\\Local\\Continuum\\miniconda3\\envs\\torch\\lib\\site-packages\\ipykernel_launcher.py:17: UserWarning: volatile was removed and now has no effect. Use `with torch.no_grad():` instead.\n"
     ]
    },
    {
     "name": "stdout",
     "output_type": "stream",
     "text": [
      "cost5.667860196574033s\n",
      "cost5.321522194365606s\n",
      "cost5.48508372060477s\n"
     ]
    }
   ],
   "source": [
    "UPSCALE_FACTOR = 4\n",
    "TEST_MODE = False #if opt.test_mode == 'GPU' else False\n",
    "IMAGE_NAME = ['01s.jpg', '02s.jpg', '03s.jpg']\n",
    "MODEL = '20180809-1112-inception-netG_epoch_4_15'\n",
    "MODEL_NAME = MODEL + '.pth'\n",
    "\n",
    "for i in range(0, len(IMAGE_NAME)):\n",
    "    model = Generator(UPSCALE_FACTOR).eval()\n",
    "    if TEST_MODE:\n",
    "        model.cuda()\n",
    "        model.load_state_dict(torch.load('epochs/' + MODEL_NAME), strict=False)\n",
    "    else:\n",
    "        model.load_state_dict(torch.load('epochs/' + MODEL_NAME, map_location=lambda storage, loc: storage), strict=False)\n",
    "\n",
    "    image = Image.open(IMAGE_NAME[i])\n",
    "\n",
    "    image = Variable(ToTensor()(image), volatile=True).unsqueeze(0)\n",
    "    if TEST_MODE:\n",
    "        image = image.cuda()\n",
    "\n",
    "    start = time.clock()\n",
    "    out = model(image)\n",
    "    elapsed = (time.clock() - start)\n",
    "    print('cost' + str(elapsed) + 's')\n",
    "    out_img = ToPILImage()(out[0].data.cpu())\n",
    "\n",
    "    out_img.save( 'testingfolder/'+ MODEL+ '_out_srf_' + str(UPSCALE_FACTOR) + '_' +IMAGE_NAME[i]+'.jpg')"
   ]
  },
  {
   "cell_type": "code",
   "execution_count": 40,
   "metadata": {},
   "outputs": [
    {
     "name": "stdout",
     "output_type": "stream",
     "text": [
      "01s.jpg\n",
      "<class 'str'>\n"
     ]
    }
   ],
   "source": []
  },
  {
   "cell_type": "code",
   "execution_count": null,
   "metadata": {},
   "outputs": [],
   "source": []
  },
  {
   "cell_type": "code",
   "execution_count": null,
   "metadata": {},
   "outputs": [],
   "source": []
  }
 ],
 "metadata": {
  "kernelspec": {
   "display_name": "Python 3",
   "language": "python",
   "name": "python3"
  },
  "language_info": {
   "codemirror_mode": {
    "name": "ipython",
    "version": 3
   },
   "file_extension": ".py",
   "mimetype": "text/x-python",
   "name": "python",
   "nbconvert_exporter": "python",
   "pygments_lexer": "ipython3",
   "version": "3.6.6"
  }
 },
 "nbformat": 4,
 "nbformat_minor": 2
}
