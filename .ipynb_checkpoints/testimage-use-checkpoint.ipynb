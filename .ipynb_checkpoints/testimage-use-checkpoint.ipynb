{
 "cells": [
  {
   "cell_type": "code",
   "execution_count": null,
   "metadata": {},
   "outputs": [],
   "source": [
    "import argparse\n",
    "import time\n",
    "\n",
    "import torch\n",
    "from PIL import Image\n",
    "from torch.autograd import Variable\n",
    "from torchvision.transforms import ToTensor, ToPILImage\n",
    "\n",
    "from model import Generator"
   ]
  },
  {
   "cell_type": "code",
   "execution_count": null,
   "metadata": {},
   "outputs": [],
   "source": [
    "UPSCALE_FACTOR = 4\n",
    "TEST_MODE = True #if opt.test_mode == 'GPU' else False\n",
    "IMAGE_NAME = '001.jpg'\n",
    "MODEL_NAME = 'netG_epoch_4_100.pth'\n"
   ]
  },
  {
   "cell_type": "code",
   "execution_count": null,
   "metadata": {},
   "outputs": [],
   "source": [
    "model = Generator(UPSCALE_FACTOR).eval()\n",
    "if TEST_MODE:\n",
    "    model.cuda()\n",
    "    model.load_state_dict(torch.load('epochs/' + MODEL_NAME))\n",
    "else:\n",
    "    model.load_state_dict(torch.load('epochs/' + MODEL_NAME, map_location=lambda storage, loc: storage))\n",
    "\n",
    "image = Image.open(IMAGE_NAME)\n"
   ]
  },
  {
   "cell_type": "code",
   "execution_count": null,
   "metadata": {},
   "outputs": [],
   "source": []
  },
  {
   "cell_type": "code",
   "execution_count": null,
   "metadata": {},
   "outputs": [],
   "source": [
    "image = Variable(ToTensor()(image), volatile=True).unsqueeze(0)\n",
    "if TEST_MODE:\n",
    "    image = image.cuda()\n",
    "\n",
    "start = time.clock()\n",
    "out = model(image)\n",
    "elapsed = (time.clock() - start)\n",
    "print('cost' + str(elapsed) + 's')\n",
    "out_img = ToPILImage()(out[0].data.cpu())\n",
    "\n"
   ]
  },
  {
   "cell_type": "code",
   "execution_count": null,
   "metadata": {},
   "outputs": [],
   "source": []
  },
  {
   "cell_type": "code",
   "execution_count": null,
   "metadata": {},
   "outputs": [],
   "source": [
    "out_img.save('out_srf_' + str(UPSCALE_FACTOR) + '_' + MODEL_NAME)"
   ]
  },
  {
   "cell_type": "code",
   "execution_count": null,
   "metadata": {},
   "outputs": [],
   "source": []
  },
  {
   "cell_type": "code",
   "execution_count": null,
   "metadata": {},
   "outputs": [],
   "source": []
  }
 ],
 "metadata": {
  "kernelspec": {
   "display_name": "Python 3",
   "language": "python",
   "name": "python3"
  },
  "language_info": {
   "codemirror_mode": {
    "name": "ipython",
    "version": 3
   },
   "file_extension": ".py",
   "mimetype": "text/x-python",
   "name": "python",
   "nbconvert_exporter": "python",
   "pygments_lexer": "ipython3",
   "version": "3.6.6"
  }
 },
 "nbformat": 4,
 "nbformat_minor": 2
}
