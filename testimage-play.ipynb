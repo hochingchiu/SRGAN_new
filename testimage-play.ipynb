{
 "cells": [
  {
   "cell_type": "code",
   "execution_count": null,
   "metadata": {},
   "outputs": [],
   "source": [
    "import argparse\n",
    "import time\n",
    "\n",
    "import torch\n",
    "from PIL import Image\n",
    "from torch.autograd import Variable\n",
    "from torchvision.transforms import ToTensor, ToPILImage\n",
    "\n",
    "from model import Generator"
   ]
  },
  {
   "cell_type": "code",
   "execution_count": null,
   "metadata": {},
   "outputs": [],
   "source": [
    "UPSCALE_FACTOR = 4\n",
    "TEST_MODE = True #if opt.test_mode == 'GPU' else False\n",
    "IMAGE_NAME = '001.jpg'\n",
    "MODEL_NAME = 'netG_epoch_4_100.pth'\n"
   ]
  },
  {
   "cell_type": "code",
   "execution_count": null,
   "metadata": {},
   "outputs": [],
   "source": [
    "model = Generator(UPSCALE_FACTOR).eval()\n",
    "if TEST_MODE:\n",
    "    model.cuda()\n",
    "    model.load_state_dict(torch.load('epochs/' + MODEL_NAME))\n",
    "else:\n",
    "    model.load_state_dict(torch.load('epochs/' + MODEL_NAME, map_location=lambda storage, loc: storage))\n",
    "\n",
    "image = Image.open(IMAGE_NAME)\n"
   ]
  },
  {
   "cell_type": "code",
   "execution_count": null,
   "metadata": {},
   "outputs": [],
   "source": [
    "def getblock(image, width_block, height_block, border):\n",
    "    width = len(image[0][0])\n",
    "    height = len(image[0])\n",
    "    if width_block > width - 2*border:\n",
    "        width_block = width - 2*border\n",
    "    if height_block > height - 2*border:\n",
    "        height_block = height - 2*border\n",
    "    \n",
    "    target_width = (width - 2*border)*2\n",
    "    target_height = (height - 2*border)*2\n",
    "    \n",
    "    width_num = (width - 2*border)/width_block\n",
    "    if (width - 2*border) > width_num * width_block:\n",
    "        width_num += 1\n",
    "    height_num = (height - 2*border)/height_block\n",
    "    if (height - 2*border) > height_num * height_block:\n",
    "        height_num += 1\n",
    "        \n",
    "    output = np.zeros((3, target_height, target_width), dtype=np.float)\n",
    "    \n",
    "    patch = list()\n",
    "    region = list()\n",
    "    \n",
    "    for i in range(width_num):\n",
    "        for j in range(height_num):\n",
    "            x1 = i*width_block;\n",
    "            x2 = min(x1+width_block+2*border, width)\n",
    "            y1 = j*height_block;\n",
    "            y2 = min(y1+height_block+2*border, height)\n",
    "            patch.append(image[:,y1:y2,x1:x2])\n",
    "            \n",
    "            x1_ =2*i*width_block\n",
    "            x2_ = min(x1_+2*width_block, target_width)\n",
    "            y1_ = 2*j*height_block;\n",
    "            y2_ = min(y1_+2*height_block, target_height)\n",
    "            region.append([y1_,y2_,x1_,x2_])\n",
    "    \n",
    "    return [patch, region, output]\n",
    "\n",
    "\n",
    "def main():\n",
    "\n",
    "    net = caffe.Net('upconv_7.prototxt', net, caffe.TEST)\n",
    "\n",
    "    im = Image.open(input_file)\n",
    "    in2_ = np.array(im, dtype=np.float32)\n",
    "    #im = im.resize((200,139), Image.BICUBIC)\n",
    "    im = ImageOps.expand(im, border=7,fill='black')\n",
    "    in_ = np.array(im, dtype=np.float32)\n",
    "    in_ = in_ / 255.0\n",
    "    in_ = in_.transpose((2,0,1))\n",
    "\n",
    "    time1 = datetime.datetime.now()\n",
    "\n",
    "    [patch, region, output] = getblock(in_, block_Width, block_height, 7)\n",
    "\n",
    "    for idx in range(len(patch)):\n",
    "        \n",
    "        net.blobs['input'].reshape(1, *(patch[idx]).shape)\n",
    "        net.blobs['input'].data[...] = (patch[idx])\n",
    "        \n",
    "        net.forward()\n",
    "        output_idx = net.blobs['conv7'].data[0][:,:,:]\n",
    "        \n",
    "        output[:,region[idx][0]:region[idx][1],region[idx][2]:region[idx][3]] = output_idx\n",
    "\n",
    "    output = np.minimum(output,1.0)\n",
    "    output = np.maximum(output,0.0)\n",
    "    output = np.rint(output*255.0)\n",
    "    output = np.array(output, dtype=np.uint8)\n",
    "        \n",
    "    scipy.misc.imsave(output_file, output)\n"
   ]
  },
  {
   "cell_type": "code",
   "execution_count": null,
   "metadata": {},
   "outputs": [],
   "source": [
    "image = Variable(ToTensor()(image), volatile=True).unsqueeze(0)\n",
    "if TEST_MODE:\n",
    "    image = image.cuda()\n",
    "\n",
    "start = time.clock()\n",
    "out = model(image)\n",
    "elapsed = (time.clock() - start)\n",
    "print('cost' + str(elapsed) + 's')\n",
    "out_img = ToPILImage()(out[0].data.cpu())\n",
    "\n"
   ]
  },
  {
   "cell_type": "code",
   "execution_count": null,
   "metadata": {},
   "outputs": [],
   "source": []
  },
  {
   "cell_type": "code",
   "execution_count": null,
   "metadata": {},
   "outputs": [],
   "source": [
    "out_img.save('out_srf_' + str(UPSCALE_FACTOR) + '_' + IMAGE_NAME)"
   ]
  },
  {
   "cell_type": "code",
   "execution_count": null,
   "metadata": {},
   "outputs": [],
   "source": []
  },
  {
   "cell_type": "code",
   "execution_count": null,
   "metadata": {},
   "outputs": [],
   "source": []
  }
 ],
 "metadata": {
  "kernelspec": {
   "display_name": "Python 3",
   "language": "python",
   "name": "python3"
  },
  "language_info": {
   "codemirror_mode": {
    "name": "ipython",
    "version": 3
   },
   "file_extension": ".py",
   "mimetype": "text/x-python",
   "name": "python",
   "nbconvert_exporter": "python",
   "pygments_lexer": "ipython3",
   "version": "3.6.6"
  }
 },
 "nbformat": 4,
 "nbformat_minor": 2
}
